{
  "nbformat": 4,
  "nbformat_minor": 0,
  "metadata": {
    "colab": {
      "provenance": [],
      "authorship_tag": "ABX9TyPLStiA59lNmOI+xTS1tliL",
      "include_colab_link": true
    },
    "kernelspec": {
      "name": "python3",
      "display_name": "Python 3"
    },
    "language_info": {
      "name": "python"
    }
  },
  "cells": [
    {
      "cell_type": "markdown",
      "metadata": {
        "id": "view-in-github",
        "colab_type": "text"
      },
      "source": [
        "<a href=\"https://colab.research.google.com/github/shivakumargattu/API_Fetching/blob/main/reverseSrting.ipynb\" target=\"_parent\"><img src=\"https://colab.research.google.com/assets/colab-badge.svg\" alt=\"Open In Colab\"/></a>"
      ]
    },
    {
      "cell_type": "code",
      "execution_count": 3,
      "metadata": {
        "colab": {
          "base_uri": "https://localhost:8080/"
        },
        "id": "haxwLZH1nnIx",
        "outputId": "af928f60-42f1-495d-9453-463fbc27e287"
      },
      "outputs": [
        {
          "output_type": "stream",
          "name": "stdout",
          "text": [
            "Please Enter the word: shiva\n",
            "avihs\n"
          ]
        }
      ],
      "source": [
        "def reverseStr(word):\n",
        "  reverseWord=word[::-1]\n",
        "  return reverseWord\n",
        "userInput=input(\"Please Enter the word: \")\n",
        "result=reverseStr(userInput)\n",
        "print(result)\n"
      ]
    }
  ]
}